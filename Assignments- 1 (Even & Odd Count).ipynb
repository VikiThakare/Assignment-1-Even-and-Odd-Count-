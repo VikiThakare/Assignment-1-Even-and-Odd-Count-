{
 "cells": [
  {
   "cell_type": "code",
   "execution_count": 1,
   "id": "c5f3fe61",
   "metadata": {},
   "outputs": [
    {
     "name": "stdout",
     "output_type": "stream",
     "text": [
      "Number of even numbers : 4\n",
      "Number of even numbers : 5\n"
     ]
    }
   ],
   "source": [
    "# Write a Python program to count the number of even and odd numbers from a series of numbers.\n",
    "# Sample numbers : numbers = (1, 2, 3, 4, 5, 6, 7, 8, 9) \n",
    "\n",
    "numbers = (1, 2, 3, 4, 5, 6, 7, 8, 9)\n",
    "even_numbers = 0\n",
    "odd_numbers= 0\n",
    "for num in numbers :\n",
    "    if num % 2 == 0:\n",
    "        even_numbers = even_numbers + 1\n",
    "        \n",
    "    else:\n",
    "        odd_numbers = odd_numbers + 1\n",
    "        \n",
    "print (\"Number of even numbers :\",even_numbers)\n",
    "print (\"Number of even numbers :\",odd_numbers)"
   ]
  }
 ],
 "metadata": {
  "kernelspec": {
   "display_name": "Python 3 (ipykernel)",
   "language": "python",
   "name": "python3"
  },
  "language_info": {
   "codemirror_mode": {
    "name": "ipython",
    "version": 3
   },
   "file_extension": ".py",
   "mimetype": "text/x-python",
   "name": "python",
   "nbconvert_exporter": "python",
   "pygments_lexer": "ipython3",
   "version": "3.10.9"
  }
 },
 "nbformat": 4,
 "nbformat_minor": 5
}
